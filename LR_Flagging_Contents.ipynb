{
 "cells": [
  {
   "cell_type": "code",
   "execution_count": 1,
   "metadata": {},
   "outputs": [],
   "source": [
    "import pandas as pd\n",
    "import numpy as np\n",
    "\n",
    "from matplotlib import pyplot as plt\n",
    "%matplotlib inline\n",
    "import seaborn as sns\n",
    "import re"
   ]
  },
  {
   "cell_type": "markdown",
   "metadata": {},
   "source": [
    "## Load and Examine the data"
   ]
  },
  {
   "cell_type": "code",
   "execution_count": 2,
   "metadata": {},
   "outputs": [],
   "source": [
    "data = pd.read_csv(\"../data/1_set.csv\")"
   ]
  },
  {
   "cell_type": "code",
   "execution_count": 3,
   "metadata": {},
   "outputs": [
    {
     "data": {
      "text/html": [
       "<div>\n",
       "<style scoped>\n",
       "    .dataframe tbody tr th:only-of-type {\n",
       "        vertical-align: middle;\n",
       "    }\n",
       "\n",
       "    .dataframe tbody tr th {\n",
       "        vertical-align: top;\n",
       "    }\n",
       "\n",
       "    .dataframe thead th {\n",
       "        text-align: right;\n",
       "    }\n",
       "</style>\n",
       "<table border=\"1\" class=\"dataframe\">\n",
       "  <thead>\n",
       "    <tr style=\"text-align: right;\">\n",
       "      <th></th>\n",
       "      <th>tweet</th>\n",
       "      <th>hate</th>\n",
       "      <th>offensive</th>\n",
       "      <th>ok</th>\n",
       "    </tr>\n",
       "  </thead>\n",
       "  <tbody>\n",
       "    <tr>\n",
       "      <th>15807</th>\n",
       "      <td>RT @Jigga504: &amp;#8220;@mleew17: u pretty but da...</td>\n",
       "      <td>0</td>\n",
       "      <td>1</td>\n",
       "      <td>0</td>\n",
       "    </tr>\n",
       "    <tr>\n",
       "      <th>37845</th>\n",
       "      <td>I really want hotcakes and pancakes so bad! #MKR</td>\n",
       "      <td>0</td>\n",
       "      <td>0</td>\n",
       "      <td>1</td>\n",
       "    </tr>\n",
       "    <tr>\n",
       "      <th>6954</th>\n",
       "      <td>@sajeffress tag me pussy ill fite u</td>\n",
       "      <td>0</td>\n",
       "      <td>1</td>\n",
       "      <td>0</td>\n",
       "    </tr>\n",
       "    <tr>\n",
       "      <th>25838</th>\n",
       "      <td>@JRehling Since Muslims don't speak out agains...</td>\n",
       "      <td>0</td>\n",
       "      <td>0</td>\n",
       "      <td>1</td>\n",
       "    </tr>\n",
       "    <tr>\n",
       "      <th>40760</th>\n",
       "      <td>#stopwadhwa2015 @theonion wrote an article abo...</td>\n",
       "      <td>0</td>\n",
       "      <td>0</td>\n",
       "      <td>1</td>\n",
       "    </tr>\n",
       "  </tbody>\n",
       "</table>\n",
       "</div>"
      ],
      "text/plain": [
       "                                                   tweet  hate  offensive  ok\n",
       "15807  RT @Jigga504: &#8220;@mleew17: u pretty but da...     0          1   0\n",
       "37845   I really want hotcakes and pancakes so bad! #MKR     0          0   1\n",
       "6954                 @sajeffress tag me pussy ill fite u     0          1   0\n",
       "25838  @JRehling Since Muslims don't speak out agains...     0          0   1\n",
       "40760  #stopwadhwa2015 @theonion wrote an article abo...     0          0   1"
      ]
     },
     "execution_count": 3,
     "metadata": {},
     "output_type": "execute_result"
    }
   ],
   "source": [
    "data.sample(5)"
   ]
  },
  {
   "cell_type": "code",
   "execution_count": 4,
   "metadata": {},
   "outputs": [],
   "source": [
    "cols_target = ['hate', 'offensive', 'ok']"
   ]
  },
  {
   "cell_type": "code",
   "execution_count": 5,
   "metadata": {},
   "outputs": [
    {
     "data": {
      "text/html": [
       "<div>\n",
       "<style scoped>\n",
       "    .dataframe tbody tr th:only-of-type {\n",
       "        vertical-align: middle;\n",
       "    }\n",
       "\n",
       "    .dataframe tbody tr th {\n",
       "        vertical-align: top;\n",
       "    }\n",
       "\n",
       "    .dataframe thead th {\n",
       "        text-align: right;\n",
       "    }\n",
       "</style>\n",
       "<table border=\"1\" class=\"dataframe\">\n",
       "  <thead>\n",
       "    <tr style=\"text-align: right;\">\n",
       "      <th></th>\n",
       "      <th>hate</th>\n",
       "      <th>offensive</th>\n",
       "      <th>ok</th>\n",
       "    </tr>\n",
       "  </thead>\n",
       "  <tbody>\n",
       "    <tr>\n",
       "      <th>count</th>\n",
       "      <td>40959.000000</td>\n",
       "      <td>40959.000000</td>\n",
       "      <td>40959.000000</td>\n",
       "    </tr>\n",
       "    <tr>\n",
       "      <th>mean</th>\n",
       "      <td>0.119144</td>\n",
       "      <td>0.587661</td>\n",
       "      <td>0.496570</td>\n",
       "    </tr>\n",
       "    <tr>\n",
       "      <th>std</th>\n",
       "      <td>0.323961</td>\n",
       "      <td>0.492262</td>\n",
       "      <td>0.499994</td>\n",
       "    </tr>\n",
       "    <tr>\n",
       "      <th>min</th>\n",
       "      <td>0.000000</td>\n",
       "      <td>0.000000</td>\n",
       "      <td>0.000000</td>\n",
       "    </tr>\n",
       "    <tr>\n",
       "      <th>25%</th>\n",
       "      <td>0.000000</td>\n",
       "      <td>0.000000</td>\n",
       "      <td>0.000000</td>\n",
       "    </tr>\n",
       "    <tr>\n",
       "      <th>50%</th>\n",
       "      <td>0.000000</td>\n",
       "      <td>1.000000</td>\n",
       "      <td>0.000000</td>\n",
       "    </tr>\n",
       "    <tr>\n",
       "      <th>75%</th>\n",
       "      <td>0.000000</td>\n",
       "      <td>1.000000</td>\n",
       "      <td>1.000000</td>\n",
       "    </tr>\n",
       "    <tr>\n",
       "      <th>max</th>\n",
       "      <td>1.000000</td>\n",
       "      <td>1.000000</td>\n",
       "      <td>1.000000</td>\n",
       "    </tr>\n",
       "  </tbody>\n",
       "</table>\n",
       "</div>"
      ],
      "text/plain": [
       "               hate     offensive            ok\n",
       "count  40959.000000  40959.000000  40959.000000\n",
       "mean       0.119144      0.587661      0.496570\n",
       "std        0.323961      0.492262      0.499994\n",
       "min        0.000000      0.000000      0.000000\n",
       "25%        0.000000      0.000000      0.000000\n",
       "50%        0.000000      1.000000      0.000000\n",
       "75%        0.000000      1.000000      1.000000\n",
       "max        1.000000      1.000000      1.000000"
      ]
     },
     "execution_count": 5,
     "metadata": {},
     "output_type": "execute_result"
    }
   ],
   "source": [
    "data.describe()"
   ]
  },
  {
   "cell_type": "code",
   "execution_count": 6,
   "metadata": {},
   "outputs": [
    {
     "data": {
      "text/plain": [
       "0"
      ]
     },
     "execution_count": 6,
     "metadata": {},
     "output_type": "execute_result"
    }
   ],
   "source": [
    "data['tweet'].isnull().sum()"
   ]
  },
  {
   "cell_type": "code",
   "execution_count": 7,
   "metadata": {},
   "outputs": [
    {
     "name": "stdout",
     "output_type": "stream",
     "text": [
      "hate          4880\n",
      "offensive    24070\n",
      "ok           20339\n",
      "dtype: int64\n"
     ]
    }
   ],
   "source": [
    "print(data[cols_target].sum())"
   ]
  },
  {
   "cell_type": "markdown",
   "metadata": {},
   "source": [
    "length of the text in the tweets:"
   ]
  },
  {
   "cell_type": "code",
   "execution_count": 8,
   "metadata": {},
   "outputs": [],
   "source": [
    "data['text_length'] = data['tweet'].apply(lambda x:len(str(x)))"
   ]
  },
  {
   "cell_type": "code",
   "execution_count": 9,
   "metadata": {},
   "outputs": [
    {
     "data": {
      "image/png": "[encoded data removed]",
      "text/plain": [
       "<Figure size 432x288 with 1 Axes>"
      ]
     },
     "metadata": {},
     "output_type": "display_data"
    }
   ],
   "source": [
    "\n",
    "#histogram plot for text length\n",
    "sns.set()\n",
    "data['text_length'].hist()\n",
    "plt.show()"
   ]
  },
  {
   "cell_type": "markdown",
   "metadata": {},
   "source": [
    "Most of the text is less than 300 chars"
   ]
  },
  {
   "cell_type": "markdown",
   "metadata": {},
   "source": [
    "Checking what is going on with the data:"
   ]
  },
  {
   "cell_type": "code",
   "execution_count": 10,
   "metadata": {},
   "outputs": [
    {
     "name": "stdout",
     "output_type": "stream",
     "text": [
      "('a', 12583)\n",
      "('the', 11613)\n",
      "('RT', 10837)\n",
      "('to', 9157)\n",
      "('I', 9153)\n",
      "('bitch', 6685)\n",
      "('you', 6559)\n",
      "('and', 6196)\n",
      "('is', 5570)\n",
      "('of', 5352)\n"
     ]
    }
   ],
   "source": [
    "all_words = []\n",
    "for tweet in data['tweet']:\n",
    "    for word in tweet.split():\n",
    "        all_words.append(word)\n",
    "        \n",
    "def word_freq(list):\n",
    "    \"\"\"getting the freq of words\n",
    "    input: a list of words\n",
    "    output: dict with items of the list as key and\n",
    "    their freq in the list as the value\"\"\"\n",
    "    words_dict = {}\n",
    "    for word in list:\n",
    "        words_dict[word] = words_dict.get(word,0)+1\n",
    "    return words_dict\n",
    "\n",
    "sort_orders = sorted(word_freq(all_words).items(), key=lambda x:x[1], reverse=True)\n",
    "for i in sort_orders[0:10]:\n",
    "    print(i)"
   ]
  },
  {
   "cell_type": "markdown",
   "metadata": {},
   "source": [
    "# Cleaning up the text"
   ]
  },
  {
   "cell_type": "code",
   "execution_count": 11,
   "metadata": {},
   "outputs": [],
   "source": [
    "def clean_text(text):\n",
    "    text = text.lower()\n",
    "    text = re.sub(r\"what's\",\"what is\", text)\n",
    "    text = re.sub(r\"rt\", '',text)\n",
    "    text = re.sub(r\"\\'ve\",\"have\", text)\n",
    "    text = re.sub(r\"can't\",\"cannot\",text)\n",
    "    text = re.sub(r\"n't\", \"not\", text)\n",
    "    text = re.sub(r\"i'm\",\"i am\", text)\n",
    "    text = re.sub(r\"\\'re'\",\"are\", text)\n",
    "    text = re.sub(r\"\\'d'\",\"would\",text)\n",
    "    text = re.sub(r\"\\'ll'\", \"will\", text)\n",
    "    text = re.sub(r\"\\'scuse'\", \"excuse\", text)\n",
    "    text = re.sub(\"\\W\",' ', text)\n",
    "    text = re.sub('\\s+',' ',text)\n",
    "    text = text.strip(' ')\n",
    "    return text\n",
    "\n",
    "import nltk\n",
    "from nltk.corpus import stopwords\n",
    "#nltk.download('stopwords')\n",
    "stop_words = set(stopwords.words('english'))"
   ]
  },
  {
   "cell_type": "code",
   "execution_count": 12,
   "metadata": {},
   "outputs": [],
   "source": [
    "data['tweet'] = data['tweet'].map(lambda x: clean_text(x))"
   ]
  },
  {
   "cell_type": "code",
   "execution_count": 13,
   "metadata": {},
   "outputs": [
    {
     "data": {
      "image/png": "[encoded data removed]",
      "text/plain": [
       "<Figure size 576x576 with 1 Axes>"
      ]
     },
     "metadata": {},
     "output_type": "display_data"
    }
   ],
   "source": [
    "all_words = []\n",
    "for tweet in data['tweet']:\n",
    "    for word in tweet.split():\n",
    "        all_words.append(word)\n",
    "        \n",
    "def word_freq(list):\n",
    "    \"\"\"getting the freq of words\n",
    "    input: a list of words\n",
    "    output: dict with items of the list as key and\n",
    "    their freq in the list as the value\"\"\"\n",
    "    words_dict = {}\n",
    "    for word in list:\n",
    "        words_dict[word] = words_dict.get(word,0)+1\n",
    "    return words_dict\n",
    "words_no_stop = [i for i in all_words if not i in stop_words]\n",
    "\n",
    "sort_orders = sorted(word_freq(words_no_stop).items(), key=lambda x:x[1], reverse=True)\n",
    "\n",
    "dataframe = pd.DataFrame(sort_orders[:20],\n",
    "                        columns=['words','count'])\n",
    "fig, ax = plt.subplots(figsize=(8,8))\n",
    "dataframe.sort_values(by='count').plot.barh(x='words',\n",
    "                                           y='count',\n",
    "                                           ax=ax,\n",
    "                                           color=[(0.2,0.5,0.8),(0.2,0.5,0.6)],\n",
    "                                            fontsize=12)\n",
    "ax.set_title('Common Words Found in the texts')\n",
    "plt.show()"
   ]
  },
  {
   "cell_type": "code",
   "execution_count": 14,
   "metadata": {
    "scrolled": true
   },
   "outputs": [
    {
     "data": {
      "text/plain": [
       "0        mayasolovely as a woman you shouldnot complain...\n",
       "1        mleew17 boy dats cold tyga dwn bad for cuffin ...\n",
       "2        urkindofbrand dawg 80sbaby4life you ever fuck ...\n",
       "3           c_g_anderson viva_based she look like a tranny\n",
       "4        shenikarobes the shit you hear about me might ...\n",
       "                               ...                        \n",
       "40954           scaryjen alfuriuskj nayadrikj undead 4ever\n",
       "40955                                  here s a suggestion\n",
       "40956    ardiem1m alfonso_araujog maxblumenthal oldkhay...\n",
       "40957    oh i knew it fuuuck more restaurants ok i said...\n",
       "40958    kickyfast bonegolem totalbiscuit srhbutts nice...\n",
       "Name: tweet, Length: 40959, dtype: object"
      ]
     },
     "execution_count": 14,
     "metadata": {},
     "output_type": "execute_result"
    }
   ],
   "source": [
    "data['tweet']"
   ]
  },
  {
   "cell_type": "code",
   "execution_count": 15,
   "metadata": {},
   "outputs": [
    {
     "data": {
      "text/plain": [
       "(40959, 4)"
      ]
     },
     "execution_count": 15,
     "metadata": {},
     "output_type": "execute_result"
    }
   ],
   "source": [
    "data = data.drop('text_length', axis=1)\n",
    "data.shape"
   ]
  },
  {
   "cell_type": "code",
   "execution_count": 16,
   "metadata": {},
   "outputs": [],
   "source": [
    "X = data.tweet\n",
    "Y = data.drop('tweet', axis=1)\n",
    "\n",
    "from sklearn.model_selection import train_test_split\n",
    "x_train, x_test, y_train, y_test = train_test_split(X, Y, test_size=0.2)\n"
   ]
  },
  {
   "cell_type": "markdown",
   "metadata": {},
   "source": [
    "## Vectorization"
   ]
  },
  {
   "cell_type": "code",
   "execution_count": 17,
   "metadata": {},
   "outputs": [
    {
     "data": {
      "text/plain": [
       "TfidfVectorizer(max_features=400, stop_words='english')"
      ]
     },
     "execution_count": 17,
     "metadata": {},
     "output_type": "execute_result"
    }
   ],
   "source": [
    "from sklearn.feature_extraction.text import CountVectorizer\n",
    "from sklearn.feature_extraction.text import TfidfVectorizer\n",
    "vect = TfidfVectorizer(max_features=400, stop_words = 'english')\n",
    "vect"
   ]
  },
  {
   "cell_type": "code",
   "execution_count": 18,
   "metadata": {},
   "outputs": [
    {
     "data": {
      "text/plain": [
       "<32767x400 sparse matrix of type '<class 'numpy.float64'>'\n",
       "\twith 110176 stored elements in Compressed Sparse Row format>"
      ]
     },
     "execution_count": 18,
     "metadata": {},
     "output_type": "execute_result"
    }
   ],
   "source": [
    "X_dtm = vect.fit_transform(x_train)\n",
    "X_dtm_test = vect.fit_transform(x_test)\n",
    "X_dtm\n"
   ]
  },
  {
   "cell_type": "code",
   "execution_count": 19,
   "metadata": {},
   "outputs": [
    {
     "name": "stdout",
     "output_type": "stream",
     "text": [
      "...Processing hate\n",
      "Training accuracy is 0.8955961790826136\n",
      "Testing accuracy is 0.89501953125\n",
      "...Processing offensive\n",
      "Training accuracy is 0.8880886257515183\n",
      "Testing accuracy is 0.90087890625\n",
      "...Processing ok\n",
      "Training accuracy is 0.9530014954069643\n",
      "Testing accuracy is 0.9552001953125\n"
     ]
    }
   ],
   "source": [
    "from sklearn.linear_model import LogisticRegression\n",
    "from sklearn.metrics import accuracy_score\n",
    "logreg =LogisticRegression(tol = 0.01,C=1.0, max_iter=10000)\n",
    "\n",
    "for label in cols_target:\n",
    "    print('...Processing {}'.format(label))\n",
    "    y = y_train[label]\n",
    "    logreg.fit(X_dtm,y)\n",
    "    y_pred_X = logreg.predict(X_dtm)\n",
    "    print('Training accuracy is {}'.format(accuracy_score(y, y_pred_X)))\n",
    "    \n",
    "    y_test_2 = y_test[label]\n",
    "    logreg.fit(X_dtm_test,y_test_2)\n",
    "    y_pred_X_test = logreg.predict(X_dtm_test)\n",
    "    print('Testing accuracy is {}'.format(accuracy_score(y_test_2, y_pred_X_test)))"
   ]
  },
  {
   "cell_type": "markdown",
   "metadata": {},
   "source": [
    "## Export model"
   ]
  },
  {
   "cell_type": "code",
   "execution_count": 20,
   "metadata": {},
   "outputs": [],
   "source": [
    "import pickle\n",
    "pickle.dump(logreg,open(\"LR.pkl\",\"wb\"))"
   ]
  },
  {
   "cell_type": "markdown",
   "metadata": {},
   "source": [
    "## Test Model"
   ]
  },
  {
   "cell_type": "code",
   "execution_count": 21,
   "metadata": {},
   "outputs": [],
   "source": [
    "with open('LR.pkl','rb') as f:\n",
    "    model = pickle.load(f)"
   ]
  },
  {
   "cell_type": "code",
   "execution_count": 22,
   "metadata": {},
   "outputs": [
    {
     "name": "stdout",
     "output_type": "stream",
     "text": [
      "[0 0 0 ... 1 1 1]\n"
     ]
    }
   ],
   "source": [
    "print(model.predict(X_dtm_test))"
   ]
  },
  {
   "cell_type": "code",
   "execution_count": 23,
   "metadata": {},
   "outputs": [],
   "source": [
    "def add_feature(X, feature_to_add):\n",
    "\n",
    "    from scipy.sparse import csr_matrix, hstack\n",
    "    return hstack([X, csr_matrix(feature_to_add).T], 'csr')"
   ]
  },
  {
   "cell_type": "code",
   "execution_count": 24,
   "metadata": {},
   "outputs": [
    {
     "name": "stdout",
     "output_type": "stream",
     "text": [
      "...Processing hate\n",
      "Training accuracy is 0.8955961790826136\n",
      "TShape of X_dtm is now (32767, 401)\n",
      "Training accuracy is 0.89501953125\n",
      "TShape of X_dtm_test is now (8192, 401)\n",
      "...Processing offensive\n",
      "Training accuracy is 0.9633167516098514\n",
      "TShape of X_dtm is now (32767, 402)\n",
      "Training accuracy is 0.96337890625\n",
      "TShape of X_dtm_test is now (8192, 402)\n",
      "...Processing ok\n",
      "Training accuracy is 0.9933164464247566\n",
      "TShape of X_dtm is now (32767, 403)\n",
      "Training accuracy is 0.9937744140625\n",
      "TShape of X_dtm_test is now (8192, 403)\n"
     ]
    }
   ],
   "source": [
    "for label in cols_target:\n",
    "    \n",
    "    print('...Processing {}'.format(label))\n",
    "    y = y_train[label]\n",
    "    logreg.fit(X_dtm,y)\n",
    "    y_pred_X = logreg.predict(X_dtm)\n",
    "    print('Training accuracy is {}'.format(accuracy_score(y, y_pred_X)))\n",
    "    \n",
    "    X_dtm = add_feature(X_dtm, y)\n",
    "    print('TShape of X_dtm is now {}'.format(X_dtm.shape))\n",
    "    \n",
    "    y_test_2 = y_test[label]\n",
    "    logreg.fit(X_dtm_test,y_test_2)\n",
    "    y_pred_X_test = logreg.predict(X_dtm_test)\n",
    "    print('Training accuracy is {}'.format(accuracy_score(y_test_2, y_pred_X_test)))\n",
    "    \n",
    "    X_dtm_test = add_feature(X_dtm_test, y_test_2)\n",
    "    print('TShape of X_dtm_test is now {}'.format(X_dtm_test.shape))"
   ]
  },
  {
   "cell_type": "code",
   "execution_count": 109,
   "metadata": {},
   "outputs": [],
   "source": []
  },
  {
   "cell_type": "code",
   "execution_count": null,
   "metadata": {},
   "outputs": [],
   "source": []
  },
  {
   "cell_type": "code",
   "execution_count": null,
   "metadata": {},
   "outputs": [],
   "source": []
  }
 ],
 "metadata": {
  "kernelspec": {
   "display_name": "Python 3",
   "language": "python",
   "name": "python3"
  },
  "language_info": {
   "codemirror_mode": {
    "name": "ipython",
    "version": 3
   },
   "file_extension": ".py",
   "mimetype": "text/x-python",
   "name": "python",
   "nbconvert_exporter": "python",
   "pygments_lexer": "ipython3",
   "version": "3.8.5"
  }
 },
 "nbformat": 4,
 "nbformat_minor": 4
}
